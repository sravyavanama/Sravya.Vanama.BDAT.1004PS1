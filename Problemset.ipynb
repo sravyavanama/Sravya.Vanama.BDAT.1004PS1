{
 "cells": [
  {
   "cell_type": "markdown",
   "id": "4e4961d3",
   "metadata": {},
   "source": [
    "Question : 1 Int (integer) Float (decimal) Bool (true) Character (char) Int (10) String (\"55\") Int (concatenation 52) Int (2) Int (1) Array Bool (false) Float (3.14..)"
   ]
  },
  {
   "cell_type": "markdown",
   "id": "67bb1212",
   "metadata": {},
   "source": [
    "Question 2.a)\n",
    "\n",
    "using System;\n",
    "public class letters {\n",
    "public static void Main() { string str; Console.Write(\"enter the string : \\n\"); str = Console.ReadLine();\n",
    "int length=str.Length; Console.WriteLine(length); } }\n",
    "\n",
    "Question 2. b)\n",
    "\n",
    "using System;\n",
    "\n",
    "public class substring { public static void Main() { string s = \"'Supercalifragilisticexpialidocious\"; if (s.Contains(\"ice\") == true) { Console.WriteLine(\"substring found\"); } else { Console.WriteLine(\"substring not found\"); } } }\n",
    "\n",
    "Question 2. c)\n",
    "\n",
    "using System;\n",
    "\n",
    "public class longestword { static void Main(string[] args) { string str; string[] stringList; int x = 0, length, max = 0; Console.Write(\"Enter all strings leaving space by space: \"); str = Console.ReadLine(); stringList = str.Split(' '); length = stringList.Length; for (int i = 0; i < length; i++) { if(stringList[i].Length>max) { max = stringList[i].Length; x = i; } } Console.WriteLine(\"Longest string:{0} \\n,Count of count of chrackter:{1} \",stringList[x],max); Console.ReadLine(); } }\n",
    "\n",
    "Question 2.d)\n",
    "\n",
    "using System;\n",
    "public class letters{\n",
    "public static void Main(){ string[] sd = {\"Berlioz\", \"Borodin\", \"Brian\",\"Bartok\", \"Bellini\", \"Buxtehude\",\"Bernstein\"}; Array.Sort(sd); int length = sd.Length; string t=\"\"; for(int i = 0;i<length;++i){ t = sd[i]; if(i == 0) Console.WriteLine(t+\" comes first\"); } Console.WriteLine(t+\" comes last\"); } }\n",
    "\n"
   ]
  },
  {
   "cell_type": "markdown",
   "id": "d50394c3",
   "metadata": {},
   "source": [
    "Question : 3) using System; class xyz { static float AreaofTriangle(float a, float b,float c) { float s = (a + b + c) / 2; return (float)Math.Sqrt(s * (s - a) * (s - b) * (s - c)); } public static void Main() { float a = 2.0f; float b = 2.0f; float c = 2.0f;\n",
    "\n",
    "    Console.Write(\"Area is \" + AreaofTriangle(a, b, c));\n",
    "}\n",
    "}"
   ]
  },
  {
   "cell_type": "markdown",
   "id": "e0a36070",
   "metadata": {},
   "source": [
    "Question : 4)\n",
    "\n",
    "using System; namespace Demo { public class Program { public static void Main(string[] args) { Console.WriteLine(\"enter the number of elements to be stored in the array\"); int ele =int.Parse(Console.ReadLine()); Console.WriteLine(\"{0}\",ele); Console.WriteLine(\"input elements in the array\"); int[] a1 = new int[] {25,47,42,56,32}; int[] a2 = new int[5]; int[] a3 = new int[5]; int i, j = 0, k = 0; for (i = 0; i < 5; i++) { if (a1[i] % 2 == 0) { a2[j] = a1[i]; j++; } else { a3[k] = a1[i]; k++; } } Console.WriteLine(\"Even numbers...\"); for (i = 0; i < j; i++) { Console.WriteLine(a2[i]); } Console.WriteLine(\"Odd numbers...\"); for (i = 0; i < k; i++) { Console.WriteLine(a3[i]); } } } }"
   ]
  },
  {
   "cell_type": "markdown",
   "id": "9a5ad8cf",
   "metadata": {},
   "source": [
    "Question 5 a)\n",
    "\n",
    "using System; public class rect { static bool Inside(int x, int y, int x1,int y1, int x2, int y2) { if (x > x1 && x < x2 && y > y1 && y < y2) return true; else return false; }\n",
    "\n",
    "public static void Main() { Console.WriteLine(\"enter x,y,x1,y1,x2,y2 values\"); String a,b,a1,b1,a2,b2; int x,y,x1,y1,x2,y2; a=Console.ReadLine(); x=Convert.ToInt32(a); b=Console.ReadLine(); y=Convert.ToInt32(b); a1=Console.ReadLine(); x1=Convert.ToInt32(a1); b1=Console.ReadLine(); y1=Convert.ToInt32(b1); a2=Console.ReadLine(); x2=Convert.ToInt32(a2); b2=Console.ReadLine(); y2=Convert.ToInt32(b2); Console.WriteLine(\"x=\"+x); Console.WriteLine(\"y=\"+y); Console.WriteLine(\"x1=\"+x1); Console.WriteLine(\"y1=\"+y1); Console.WriteLine(\"x2=\"+x2); Console.WriteLine(\"y2=\"+y2);\n",
    "\n",
    "if (Inside(x, y,x1, y1, x2, y2))\n",
    "    Console.Write(\"Yes\");\n",
    "else\n",
    "    Console.Write(\"No\");\n",
    "} }\n",
    "\n",
    "Question 5: B)\n",
    "\n",
    "using System; public class rect { static bool Inside(int x, int y, float x1,float y1, float x2, float y2) { if (x > x1 && x < x2 && y > y1 && y < y2) return true; else return false; }\n",
    "\n",
    "public static void Main() { Console.WriteLine(\"enter x,y,x1,y1,x2,y2 values\"); String a,b,a1,b1,a2,b2; int x,y; float x1,y1,x2,y2; a=Console.ReadLine(); x=Convert.ToInt32(a); b=Console.ReadLine(); y=Convert.ToInt32(b); a1=Console.ReadLine(); x1=float.Parse(a1); b1=Console.ReadLine(); y1=float.Parse(b1); a2=Console.ReadLine(); x2=float.Parse(a2); b2=Console.ReadLine(); y2=float.Parse(b2); Console.WriteLine(\"x=\"+x); Console.WriteLine(\"y=\"+y); Console.WriteLine(\"x1=\"+x1); Console.WriteLine(\"y1=\"+y1); Console.WriteLine(\"x2=\"+x2); Console.WriteLine(\"y2=\"+y2);\n",
    "\n",
    "if (Inside(x, y,x1, y1, x2, y2))\n",
    "    Console.Write(\"Yes\");\n",
    "else\n",
    "    Console.Write(\"No\");\n",
    "} }"
   ]
  },
  {
   "cell_type": "code",
   "execution_count": 3,
   "id": "105a6466",
   "metadata": {},
   "outputs": [
    {
     "name": "stdout",
     "output_type": "stream",
     "text": [
      "Enter a Sentence: happy enter\n",
      "happy enter\n",
      "Pig Latin:  appyhay enterway\n"
     ]
    }
   ],
   "source": [
    "#Question 6 : \n",
    "x = input('Enter a Sentence: ').lower()\n",
    "print(x)\n",
    "words = x.split()\n",
    "for i, word in enumerate(words):\n",
    "    if word[0] in 'aeiouAEIOU':\n",
    "        words[i] = words[i]+ \"way\"\n",
    "    else:\n",
    "        has_vowel = False\n",
    "        for j, letter in enumerate(word):\n",
    "            if letter in 'aeiouAEIOU':\n",
    "                words[i] = word[j:] + word[:j] + \"ay\"\n",
    "                has_vowel = True\n",
    "                break\n",
    "        if(has_vowel == False):\n",
    "            words[i] = words[i]+ \"ay\"\n",
    "ans = ' '.join(words)\n",
    "print(\"Pig Latin: \",ans)"
   ]
  },
  {
   "cell_type": "code",
   "execution_count": 5,
   "id": "360142b0",
   "metadata": {},
   "outputs": [
    {
     "name": "stdout",
     "output_type": "stream",
     "text": [
      "There are 15 patients of blood type A\n",
      "There are one patient of blood type B\n",
      "There are 13 patients of blood type AB\n",
      "There are 15 patients of blood type O\n",
      "There are no patients of blood type OO\n"
     ]
    }
   ],
   "source": [
    "#Question 7 :\n",
    "\n",
    "O = 0;OO=0;A=0;AB=0;B=0\n",
    "def printGroups(groupname,count) :\n",
    "    if count == 0 :\n",
    "        print(\"There are no patients of blood type {}\".format(groupname))\n",
    "    elif count == 1:\n",
    "        print(\"There are one patient of blood type {}\".format(groupname))\n",
    "    else :\n",
    "        print(\"There are {} patients of blood type {}\".format(count,groupname))\n",
    "file1 = open('bloodtype1.txt','r')\n",
    "text = file1.read()\n",
    "lis = text.split()\n",
    "for grp in lis :\n",
    "    if grp == 'OO' :\n",
    "        OO+=1\n",
    "    elif grp == 'A':\n",
    "        A+=1\n",
    "    elif grp == 'AB':\n",
    "        AB+=1\n",
    "    elif grp == 'B':\n",
    "        B+=1\n",
    "    elif grp == 'O':\n",
    "        O+=1\n",
    "printGroups('A',A);printGroups('B',B);printGroups('AB',AB);printGroups('O',O);printGroups('OO',OO)"
   ]
  },
  {
   "cell_type": "code",
   "execution_count": 6,
   "id": "384a6743",
   "metadata": {},
   "outputs": [
    {
     "name": "stdout",
     "output_type": "stream",
     "text": [
      "122.96544\n",
      "1.241401\n"
     ]
    }
   ],
   "source": [
    "#Question 8 :\n",
    "def curconv(c,a) : #c,a indicates currency and amount\n",
    "    file1 = open('currencies.txt','r')\n",
    "    data = file1.read()\n",
    "    l = data.split(\"\\n\") #splitting the data according to line divisions\n",
    "    cc= {}\n",
    "    for current in l :\n",
    "        aa=current.split(\"\\t\")  #splitting the data according to tab space divisions\n",
    "        cc[aa[0]]=float(aa[1])\n",
    "    print(cc[c]*a)\n",
    "curconv(\"EUR\",100)\n",
    "curconv(\"JPY\",100)"
   ]
  },
  {
   "cell_type": "markdown",
   "id": "e21e6a9b",
   "metadata": {},
   "source": [
    "#Question 9 : TypeError: unsupported operand type(s) for +: 'int' and 'str' IndexError: list index out of range ValueError: math domain error NameError: name 'x' is not defined FileNotFoundError\"\""
   ]
  },
  {
   "cell_type": "code",
   "execution_count": 8,
   "id": "8916fcdf",
   "metadata": {},
   "outputs": [
    {
     "name": "stdout",
     "output_type": "stream",
     "text": [
      "[1, 1, 1, 3, 5, 1, 1, 2, 1, 0, 1, 0, 1, 2, 4, 0, 1, 2, 0, 2, 1, 0, 1, 1, 0, 0]\n",
      "[1, 0, 0, 0, 1, 0, 0, 0, 0, 0, 0, 1, 0, 0, 0, 2, 0, 0, 0, 0, 0, 0, 0, 0, 0, 0]\n"
     ]
    }
   ],
   "source": [
    "#Question 10 :\n",
    "def frequencies(a) :\n",
    "    alphabets = {'a':0,'b':0,'c':0,'d':0,'e':0,'f':0,'g':0,'h':0,'i':0,'j':0,'k':0,'l':0,'m':0,'n':0,'o':0,\n",
    "    'p':0,'q':0,'r':0,'s':0,'t':0,'u':0,'v':0,'w':0,'x':0,'y':0,'z':0}\n",
    "\n",
    "    alpha = \"abcdefghijklmnopqrstuvwxyz\"\n",
    "\n",
    "    for ind in range(0,len(a)):\n",
    "        if a[ind] in alphabets:\n",
    "            alphabets[a[ind]]+=1\n",
    "    alphaList = []\n",
    "    for key in alphabets :\n",
    "        alphaList.append(alphabets[key])\n",
    "    print(alphaList)\n",
    "frequencies(\"The quick red fox got bored and went home\")\n",
    "frequencies(\"apple\")"
   ]
  },
  {
   "cell_type": "code",
   "execution_count": null,
   "id": "c50270ff",
   "metadata": {},
   "outputs": [],
   "source": []
  }
 ],
 "metadata": {
  "kernelspec": {
   "display_name": "Python 3 (ipykernel)",
   "language": "python",
   "name": "python3"
  },
  "language_info": {
   "codemirror_mode": {
    "name": "ipython",
    "version": 3
   },
   "file_extension": ".py",
   "mimetype": "text/x-python",
   "name": "python",
   "nbconvert_exporter": "python",
   "pygments_lexer": "ipython3",
   "version": "3.9.12"
  }
 },
 "nbformat": 4,
 "nbformat_minor": 5
}
